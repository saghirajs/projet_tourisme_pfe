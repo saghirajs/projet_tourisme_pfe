{
 "cells": [
  {
   "cell_type": "code",
   "execution_count": null,
   "metadata": {},
   "outputs": [],
   "source": [
    "from sklearn.model_selection import train_test_split\n",
    "from sklearn.linear_model import LinearRegression\n",
    "from sklearn import metrics\n",
    "import pandas as pd\n",
    "import numpy as np\n",
    "import matplotlib.pyplot as plt\n",
    "import seaborn as sns\n",
    "import urllib, json\n",
    "import datetime as dt\n",
    "import itertools\n",
    "from dateutil.relativedelta import *\n",
    "from sklearn.metrics import mean_squared_error, mean_absolute_error\n",
    "from math import sqrt\n",
    "from statsmodels.tsa.api import ExponentialSmoothing, SimpleExpSmoothing, Holt\n",
    "import statsmodels.api as sm\n",
    "from statsmodels.tsa.seasonal import seasonal_decompose\n",
    "from statsmodels.graphics.tsaplots import plot_acf, plot_pacf\n",
    "from statsmodels.tsa.statespace.sarimax import SARIMAX \n",
    "from pmdarima import auto_arima \n",
    "from statsmodels.tsa.stattools import adfuller\n",
    "import warnings\n",
    "import pickle\n",
    "warnings.filterwarnings(\"ignore\")\n",
    "import joblib\n"
   ]
  },
  {
   "cell_type": "code",
   "execution_count": null,
   "metadata": {},
   "outputs": [],
   "source": [
    "pd.set_option('display.max_columns', None)\n",
    "pd.set_option('display.width', None)\n",
    "pd.set_option('display.max_colwidth', None)\n",
    "pd.set_option('display.max_rows', None)"
   ]
  },
  {
   "cell_type": "code",
   "execution_count": null,
   "metadata": {},
   "outputs": [],
   "source": [
    "#test_data = open(r'C:\\Users\\MERIEM\\Desktop\\SOUTH AFRICA.xlsx')\n",
    "test_data=pd.read_excel(r'C:\\Users\\MERIEM\\saghir\\SOUTH AFRICA.xlsx')\n",
    "#test_data =pd.read_excel(url);\n",
    "print(test_data.info())"
   ]
  },
  {
   "cell_type": "code",
   "execution_count": null,
   "metadata": {},
   "outputs": [],
   "source": [
    "test_data['year']=pd.to_datetime(test_data['year'], format='%Y-%m-%d')\n",
    "test_data.head(25)"
   ]
  },
  {
   "cell_type": "code",
   "execution_count": null,
   "metadata": {},
   "outputs": [],
   "source": [
    "test_data['year'] = test_data['year'].dt.year.astype('str')+'-'+test_data['year'].dt.month.astype('str')+'-01'\n",
    "test_data['year'] = pd.to_datetime(test_data['year'])\n",
    "print(test_data.info())"
   ]
  },
  {
   "cell_type": "code",
   "execution_count": null,
   "metadata": {},
   "outputs": [],
   "source": [
    "\n",
    "test_data.head(25)"
   ]
  },
  {
   "cell_type": "code",
   "execution_count": null,
   "metadata": {},
   "outputs": [],
   "source": [
    "predict_test_data = test_data.groupby('year')['arrivals','employment'].sum()\n",
    "print(predict_test_data)"
   ]
  },
  {
   "cell_type": "code",
   "execution_count": null,
   "metadata": {},
   "outputs": [],
   "source": [
    "#plot \n",
    "fig=plt.figure(0,figsize=(25,4))\n",
    "ax=plt.gca()\n",
    "plt.plot(predict_test_data['arrivals'])\n",
    "ax.set_xlabel('Year')\n",
    "ax.set_ylabel('Nomber of Orders')\n"
   ]
  },
  {
   "cell_type": "code",
   "execution_count": null,
   "metadata": {},
   "outputs": [],
   "source": [
    "#ax.set_ylabel('Total arrival')\n",
    "test_model_tourism=auto_arima(predict_test_data['arrivals'],\n",
    "                           start_p=1, start_q=1, max_p=8, max_q=8,\n",
    "                           start_P=0, start_Q=0, max_P=8, max_Q=8,\n",
    "                           m=12, seasonal=True, trace=True, d=1, D=1,\n",
    "                           error_action='ignore', suppress_warnings=True,\n",
    "                           random_state = 20, n_fits=30)\n",
    "print(test_model_tourism.summary())"
   ]
  },
  {
   "cell_type": "code",
   "execution_count": null,
   "metadata": {},
   "outputs": [],
   "source": [
    "model_t = model_t = SARIMAX(predict_test_data['arrivals'],\n",
    "                             order = test_model_tourism.order,\n",
    "                             initialization='approximate_diffuse',\n",
    "                             filter_concentrated=True,\n",
    "                             seasonal_order =test_model_tourism.seasonal_order) "
   ]
  },
  {
   "cell_type": "code",
   "execution_count": null,
   "metadata": {},
   "outputs": [],
   "source": [
    "result_t = model_t.fit() "
   ]
  },
  {
   "cell_type": "code",
   "execution_count": null,
   "metadata": {},
   "outputs": [],
   "source": [
    "\n",
    "result_t.save(\"C:/Users/Meriem/saghir/model.h5\")\n",
    "loaded_ARIMA = result_t.load(\"C:/Users/Meriem/saghir/model.h5\")"
   ]
  },
  {
   "cell_type": "code",
   "execution_count": null,
   "metadata": {},
   "outputs": [],
   "source": [
    "forecast_t=np.round(result_t.predict(start = len(predict_test_data)-12,\n",
    "                                     end = len(predict_test_data)+11,\n",
    "                                     typ = 'levels').rename('Forecast Tourism'),0)\n",
    "forecast_t=np.round(result_t.predict(start = len(predict_test_data)-12,\n",
    "                                     end = len(predict_test_data)+11,\n",
    "                                     typ = 'levels').rename('Forecast Tourism'),0)\n",
    "result_t.plot_diagnostics(figsize=(16,8))\n",
    "plt.show()"
   ]
  },
  {
   "cell_type": "code",
   "execution_count": null,
   "metadata": {},
   "outputs": [],
   "source": [
    "forecast_t=np.round(result_t.predict(start = len(predict_test_data)-12,\n",
    "                                     end = len(predict_test_data)+11,\n",
    "                                     typ = 'levels').rename('Forecasting of quantity tourism'),0)"
   ]
  },
  {
   "cell_type": "code",
   "execution_count": null,
   "metadata": {},
   "outputs": [],
   "source": [
    "print('je suis forecasttttttttttttttttttttttttttttttt')\n",
    "print(forecast_t)"
   ]
  },
  {
   "cell_type": "code",
   "execution_count": null,
   "metadata": {},
   "outputs": [],
   "source": [
    "#type(forecast_t['year'])\n",
    "forecast_t.plot()"
   ]
  },
  {
   "cell_type": "code",
   "execution_count": null,
   "metadata": {},
   "outputs": [],
   "source": [
    "#meriem = pd.DataFrame(index=None)\n",
    "#meriem['arrivals']=forecast_t\n",
    "#meriem['year']=forecast_t.index\n"
   ]
  },
  {
   "cell_type": "code",
   "execution_count": null,
   "metadata": {},
   "outputs": [],
   "source": [
    "rmse=np.sqrt(mean_squared_error(predict_test_data['arrivals'].tail(25),forecast_t.head(12)))\n",
    "print(rmse)"
   ]
  },
  {
   "cell_type": "code",
   "execution_count": null,
   "metadata": {},
   "outputs": [],
   "source": [
    "#plot \n",
    "fig=plt.figure(0,figsize=(25,4))\n",
    "ax=plt.gca()\n",
    "plt.plot(predict_test_data['arrivals'])\n",
    "ax.set_xlabel('Year')\n",
    "ax.set_ylabel('Nomber of Orders')"
   ]
  },
  {
   "cell_type": "code",
   "execution_count": null,
   "metadata": {},
   "outputs": [],
   "source": [
    "fig, ax = plt.subplots()\n",
    "fig.suptitle('Forecasting of arrivals order')\n",
    "predict_test_data['arrivals'].plot(figsize=(26, 6),ax=ax, legend=True) \n",
    "plt.xlabel('year')\n",
    "plt.ylabel('No. of Orders')\n",
    "forecast_t.plot()\n"
   ]
  },
  {
   "cell_type": "code",
   "execution_count": null,
   "metadata": {},
   "outputs": [],
   "source": [
    "forecast_t.to_excel(r'Forecast.xlsx',index=True)"
   ]
  },
  {
   "cell_type": "code",
   "execution_count": null,
   "metadata": {},
   "outputs": [],
   "source": []
  }
 ],
 "metadata": {
  "kernelspec": {
   "display_name": "Python 3",
   "language": "python",
   "name": "python3"
  },
  "language_info": {
   "codemirror_mode": {
    "name": "ipython",
    "version": 3
   },
   "file_extension": ".py",
   "mimetype": "text/x-python",
   "name": "python",
   "nbconvert_exporter": "python",
   "pygments_lexer": "ipython3",
   "version": "3.7.3"
  },
  "vscode": {
   "interpreter": {
    "hash": "9650cb4e16cdd4a8e8e2d128bf38d875813998db22a3c986335f89e0cb4d7bb2"
   }
  }
 },
 "nbformat": 4,
 "nbformat_minor": 5
}
