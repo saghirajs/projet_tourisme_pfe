{
 "cells": [
  {
   "cell_type": "code",
   "execution_count": 136,
   "id": "fe7e6abe",
   "metadata": {},
   "outputs": [],
   "source": [
    "from sklearn.model_selection import train_test_split\n",
    "from sklearn.linear_model import LinearRegression\n",
    "from sklearn import metrics\n",
    "import pandas as pd\n",
    "import numpy as np\n",
    "import matplotlib.pyplot as plt\n",
    "import seaborn as sns\n",
    "import urllib, json\n",
    "import datetime as dt\n",
    "import itertools\n",
    "from dateutil.relativedelta import *\n",
    "from sklearn.metrics import mean_squared_error, mean_absolute_error\n",
    "from math import sqrt\n",
    "from statsmodels.tsa.api import ExponentialSmoothing, SimpleExpSmoothing, Holt\n",
    "import statsmodels.api as sm\n",
    "from statsmodels.tsa.seasonal import seasonal_decompose\n",
    "from statsmodels.graphics.tsaplots import plot_acf, plot_pacf\n",
    "from statsmodels.tsa.statespace.sarimax import SARIMAX \n",
    "from pmdarima import auto_arima \n",
    "from statsmodels.tsa.stattools import adfuller\n",
    "import warnings\n",
    "import pickle\n",
    "warnings.filterwarnings(\"ignore\")\n",
    "import joblib\n"
   ]
  },
  {
   "cell_type": "code",
   "execution_count": 137,
   "id": "0f94182f",
   "metadata": {},
   "outputs": [],
   "source": [
    "pd.set_option('display.max_columns', None)\n",
    "pd.set_option('display.width', None)\n",
    "pd.set_option('display.max_colwidth', None)\n",
    "pd.set_option('display.max_rows', None)"
   ]
  },
  {
   "cell_type": "code",
   "execution_count": 138,
   "id": "f98e176a",
   "metadata": {},
   "outputs": [
    {
     "name": "stdout",
     "output_type": "stream",
     "text": [
      "<class 'pandas.core.frame.DataFrame'>\n",
      "RangeIndex: 25 entries, 0 to 24\n",
      "Data columns (total 4 columns):\n",
      " #   Column        Non-Null Count  Dtype         \n",
      "---  ------        --------------  -----         \n",
      " 0   arrivals      25 non-null     int64         \n",
      " 1   employment    25 non-null     float64       \n",
      " 2   expenditures  25 non-null     int64         \n",
      " 3   year          25 non-null     datetime64[ns]\n",
      "dtypes: datetime64[ns](1), float64(1), int64(2)\n",
      "memory usage: 928.0 bytes\n",
      "None\n"
     ]
    }
   ],
   "source": [
    "#test_data = open(r'C:\\Users\\MERIEM\\Desktop\\SOUTH AFRICA.xlsx')\n",
    "test_data=pd.read_excel(r'C:\\Users\\saghir\\Desktop\\PFE\\Projet finale 07 juillet 2022\\saghir\\SOUTH AFRICA.xlsx')\n",
    "#test_data =pd.read_excel(url);\n",
    "print(test_data.info())"
   ]
  },
  {
   "cell_type": "code",
   "execution_count": 139,
   "id": "eae08133",
   "metadata": {},
   "outputs": [
    {
     "data": {
      "text/html": [
       "<div>\n",
       "<style scoped>\n",
       "    .dataframe tbody tr th:only-of-type {\n",
       "        vertical-align: middle;\n",
       "    }\n",
       "\n",
       "    .dataframe tbody tr th {\n",
       "        vertical-align: top;\n",
       "    }\n",
       "\n",
       "    .dataframe thead th {\n",
       "        text-align: right;\n",
       "    }\n",
       "</style>\n",
       "<table border=\"1\" class=\"dataframe\">\n",
       "  <thead>\n",
       "    <tr style=\"text-align: right;\">\n",
       "      <th></th>\n",
       "      <th>arrivals</th>\n",
       "      <th>employment</th>\n",
       "      <th>expenditures</th>\n",
       "      <th>year</th>\n",
       "    </tr>\n",
       "  </thead>\n",
       "  <tbody>\n",
       "    <tr>\n",
       "      <th>0</th>\n",
       "      <td>4684000</td>\n",
       "      <td>350583.0</td>\n",
       "      <td>2654000000</td>\n",
       "      <td>1995-01-01</td>\n",
       "    </tr>\n",
       "    <tr>\n",
       "      <th>1</th>\n",
       "      <td>5186000</td>\n",
       "      <td>350583.0</td>\n",
       "      <td>3137000000</td>\n",
       "      <td>1996-01-01</td>\n",
       "    </tr>\n",
       "    <tr>\n",
       "      <th>2</th>\n",
       "      <td>5170000</td>\n",
       "      <td>350583.0</td>\n",
       "      <td>3422000000</td>\n",
       "      <td>1997-01-01</td>\n",
       "    </tr>\n",
       "    <tr>\n",
       "      <th>3</th>\n",
       "      <td>5898000</td>\n",
       "      <td>350583.0</td>\n",
       "      <td>3419000000</td>\n",
       "      <td>1998-01-01</td>\n",
       "    </tr>\n",
       "    <tr>\n",
       "      <th>4</th>\n",
       "      <td>6026000</td>\n",
       "      <td>350583.0</td>\n",
       "      <td>3407000000</td>\n",
       "      <td>1999-01-01</td>\n",
       "    </tr>\n",
       "    <tr>\n",
       "      <th>5</th>\n",
       "      <td>6001000</td>\n",
       "      <td>350583.0</td>\n",
       "      <td>3338000000</td>\n",
       "      <td>2000-01-01</td>\n",
       "    </tr>\n",
       "    <tr>\n",
       "      <th>6</th>\n",
       "      <td>5908000</td>\n",
       "      <td>350583.0</td>\n",
       "      <td>3256000000</td>\n",
       "      <td>2001-01-01</td>\n",
       "    </tr>\n",
       "    <tr>\n",
       "      <th>7</th>\n",
       "      <td>6550000</td>\n",
       "      <td>350583.0</td>\n",
       "      <td>3695000000</td>\n",
       "      <td>2002-01-01</td>\n",
       "    </tr>\n",
       "    <tr>\n",
       "      <th>8</th>\n",
       "      <td>6640000</td>\n",
       "      <td>350583.0</td>\n",
       "      <td>6674000000</td>\n",
       "      <td>2003-01-01</td>\n",
       "    </tr>\n",
       "    <tr>\n",
       "      <th>9</th>\n",
       "      <td>6815000</td>\n",
       "      <td>350583.0</td>\n",
       "      <td>7571000000</td>\n",
       "      <td>2004-01-01</td>\n",
       "    </tr>\n",
       "    <tr>\n",
       "      <th>10</th>\n",
       "      <td>7518000</td>\n",
       "      <td>507385.0</td>\n",
       "      <td>8629000000</td>\n",
       "      <td>2005-01-01</td>\n",
       "    </tr>\n",
       "    <tr>\n",
       "      <th>11</th>\n",
       "      <td>8509000</td>\n",
       "      <td>553713.0</td>\n",
       "      <td>9211000000</td>\n",
       "      <td>2006-01-01</td>\n",
       "    </tr>\n",
       "    <tr>\n",
       "      <th>12</th>\n",
       "      <td>9208000</td>\n",
       "      <td>569677.0</td>\n",
       "      <td>10226000000</td>\n",
       "      <td>2007-01-01</td>\n",
       "    </tr>\n",
       "    <tr>\n",
       "      <th>13</th>\n",
       "      <td>9729000</td>\n",
       "      <td>607000.0</td>\n",
       "      <td>9178000000</td>\n",
       "      <td>2008-01-01</td>\n",
       "    </tr>\n",
       "    <tr>\n",
       "      <th>14</th>\n",
       "      <td>9532000</td>\n",
       "      <td>554000.0</td>\n",
       "      <td>8684000000</td>\n",
       "      <td>2009-01-01</td>\n",
       "    </tr>\n",
       "    <tr>\n",
       "      <th>15</th>\n",
       "      <td>11303000</td>\n",
       "      <td>567300.0</td>\n",
       "      <td>10309000000</td>\n",
       "      <td>2010-01-01</td>\n",
       "    </tr>\n",
       "    <tr>\n",
       "      <th>16</th>\n",
       "      <td>12097000</td>\n",
       "      <td>622900.0</td>\n",
       "      <td>10706000000</td>\n",
       "      <td>2011-01-01</td>\n",
       "    </tr>\n",
       "    <tr>\n",
       "      <th>17</th>\n",
       "      <td>13069000</td>\n",
       "      <td>646400.0</td>\n",
       "      <td>11202000000</td>\n",
       "      <td>2012-01-01</td>\n",
       "    </tr>\n",
       "    <tr>\n",
       "      <th>18</th>\n",
       "      <td>14318000</td>\n",
       "      <td>657700.0</td>\n",
       "      <td>10468000000</td>\n",
       "      <td>2013-01-01</td>\n",
       "    </tr>\n",
       "    <tr>\n",
       "      <th>19</th>\n",
       "      <td>14530000</td>\n",
       "      <td>681900.0</td>\n",
       "      <td>10484000000</td>\n",
       "      <td>2014-01-01</td>\n",
       "    </tr>\n",
       "    <tr>\n",
       "      <th>20</th>\n",
       "      <td>13952000</td>\n",
       "      <td>669600.0</td>\n",
       "      <td>9140000000</td>\n",
       "      <td>2015-01-01</td>\n",
       "    </tr>\n",
       "    <tr>\n",
       "      <th>21</th>\n",
       "      <td>15121000</td>\n",
       "      <td>705800.0</td>\n",
       "      <td>8807000000</td>\n",
       "      <td>2016-01-01</td>\n",
       "    </tr>\n",
       "    <tr>\n",
       "      <th>22</th>\n",
       "      <td>14975000</td>\n",
       "      <td>681600.0</td>\n",
       "      <td>9706000000</td>\n",
       "      <td>2017-01-01</td>\n",
       "    </tr>\n",
       "    <tr>\n",
       "      <th>23</th>\n",
       "      <td>15004000</td>\n",
       "      <td>739600.0</td>\n",
       "      <td>9789000000</td>\n",
       "      <td>2018-01-01</td>\n",
       "    </tr>\n",
       "    <tr>\n",
       "      <th>24</th>\n",
       "      <td>14797000</td>\n",
       "      <td>350583.0</td>\n",
       "      <td>9064000000</td>\n",
       "      <td>2019-01-01</td>\n",
       "    </tr>\n",
       "  </tbody>\n",
       "</table>\n",
       "</div>"
      ],
      "text/plain": [
       "    arrivals  employment  expenditures       year\n",
       "0    4684000    350583.0    2654000000 1995-01-01\n",
       "1    5186000    350583.0    3137000000 1996-01-01\n",
       "2    5170000    350583.0    3422000000 1997-01-01\n",
       "3    5898000    350583.0    3419000000 1998-01-01\n",
       "4    6026000    350583.0    3407000000 1999-01-01\n",
       "5    6001000    350583.0    3338000000 2000-01-01\n",
       "6    5908000    350583.0    3256000000 2001-01-01\n",
       "7    6550000    350583.0    3695000000 2002-01-01\n",
       "8    6640000    350583.0    6674000000 2003-01-01\n",
       "9    6815000    350583.0    7571000000 2004-01-01\n",
       "10   7518000    507385.0    8629000000 2005-01-01\n",
       "11   8509000    553713.0    9211000000 2006-01-01\n",
       "12   9208000    569677.0   10226000000 2007-01-01\n",
       "13   9729000    607000.0    9178000000 2008-01-01\n",
       "14   9532000    554000.0    8684000000 2009-01-01\n",
       "15  11303000    567300.0   10309000000 2010-01-01\n",
       "16  12097000    622900.0   10706000000 2011-01-01\n",
       "17  13069000    646400.0   11202000000 2012-01-01\n",
       "18  14318000    657700.0   10468000000 2013-01-01\n",
       "19  14530000    681900.0   10484000000 2014-01-01\n",
       "20  13952000    669600.0    9140000000 2015-01-01\n",
       "21  15121000    705800.0    8807000000 2016-01-01\n",
       "22  14975000    681600.0    9706000000 2017-01-01\n",
       "23  15004000    739600.0    9789000000 2018-01-01\n",
       "24  14797000    350583.0    9064000000 2019-01-01"
      ]
     },
     "execution_count": 139,
     "metadata": {},
     "output_type": "execute_result"
    }
   ],
   "source": [
    "test_data['year']=pd.to_datetime(test_data['year'], format='%Y-%m-%d')\n",
    "test_data.head(25)"
   ]
  },
  {
   "cell_type": "code",
   "execution_count": 140,
   "id": "75cd460c",
   "metadata": {},
   "outputs": [
    {
     "name": "stdout",
     "output_type": "stream",
     "text": [
      "<class 'pandas.core.frame.DataFrame'>\n",
      "RangeIndex: 25 entries, 0 to 24\n",
      "Data columns (total 4 columns):\n",
      " #   Column        Non-Null Count  Dtype         \n",
      "---  ------        --------------  -----         \n",
      " 0   arrivals      25 non-null     int64         \n",
      " 1   employment    25 non-null     float64       \n",
      " 2   expenditures  25 non-null     int64         \n",
      " 3   year          25 non-null     datetime64[ns]\n",
      "dtypes: datetime64[ns](1), float64(1), int64(2)\n",
      "memory usage: 928.0 bytes\n",
      "None\n"
     ]
    }
   ],
   "source": [
    "test_data['year'] = test_data['year'].dt.year.astype('str')+'-'+test_data['year'].dt.month.astype('str')+'-01'\n",
    "test_data['year'] = pd.to_datetime(test_data['year'])\n",
    "print(test_data.info())"
   ]
  },
  {
   "cell_type": "code",
   "execution_count": 141,
   "id": "6642b168",
   "metadata": {},
   "outputs": [
    {
     "data": {
      "text/html": [
       "<div>\n",
       "<style scoped>\n",
       "    .dataframe tbody tr th:only-of-type {\n",
       "        vertical-align: middle;\n",
       "    }\n",
       "\n",
       "    .dataframe tbody tr th {\n",
       "        vertical-align: top;\n",
       "    }\n",
       "\n",
       "    .dataframe thead th {\n",
       "        text-align: right;\n",
       "    }\n",
       "</style>\n",
       "<table border=\"1\" class=\"dataframe\">\n",
       "  <thead>\n",
       "    <tr style=\"text-align: right;\">\n",
       "      <th></th>\n",
       "      <th>arrivals</th>\n",
       "      <th>employment</th>\n",
       "      <th>expenditures</th>\n",
       "      <th>year</th>\n",
       "    </tr>\n",
       "  </thead>\n",
       "  <tbody>\n",
       "    <tr>\n",
       "      <th>0</th>\n",
       "      <td>4684000</td>\n",
       "      <td>350583.0</td>\n",
       "      <td>2654000000</td>\n",
       "      <td>1995-01-01</td>\n",
       "    </tr>\n",
       "    <tr>\n",
       "      <th>1</th>\n",
       "      <td>5186000</td>\n",
       "      <td>350583.0</td>\n",
       "      <td>3137000000</td>\n",
       "      <td>1996-01-01</td>\n",
       "    </tr>\n",
       "    <tr>\n",
       "      <th>2</th>\n",
       "      <td>5170000</td>\n",
       "      <td>350583.0</td>\n",
       "      <td>3422000000</td>\n",
       "      <td>1997-01-01</td>\n",
       "    </tr>\n",
       "    <tr>\n",
       "      <th>3</th>\n",
       "      <td>5898000</td>\n",
       "      <td>350583.0</td>\n",
       "      <td>3419000000</td>\n",
       "      <td>1998-01-01</td>\n",
       "    </tr>\n",
       "    <tr>\n",
       "      <th>4</th>\n",
       "      <td>6026000</td>\n",
       "      <td>350583.0</td>\n",
       "      <td>3407000000</td>\n",
       "      <td>1999-01-01</td>\n",
       "    </tr>\n",
       "    <tr>\n",
       "      <th>5</th>\n",
       "      <td>6001000</td>\n",
       "      <td>350583.0</td>\n",
       "      <td>3338000000</td>\n",
       "      <td>2000-01-01</td>\n",
       "    </tr>\n",
       "    <tr>\n",
       "      <th>6</th>\n",
       "      <td>5908000</td>\n",
       "      <td>350583.0</td>\n",
       "      <td>3256000000</td>\n",
       "      <td>2001-01-01</td>\n",
       "    </tr>\n",
       "    <tr>\n",
       "      <th>7</th>\n",
       "      <td>6550000</td>\n",
       "      <td>350583.0</td>\n",
       "      <td>3695000000</td>\n",
       "      <td>2002-01-01</td>\n",
       "    </tr>\n",
       "    <tr>\n",
       "      <th>8</th>\n",
       "      <td>6640000</td>\n",
       "      <td>350583.0</td>\n",
       "      <td>6674000000</td>\n",
       "      <td>2003-01-01</td>\n",
       "    </tr>\n",
       "    <tr>\n",
       "      <th>9</th>\n",
       "      <td>6815000</td>\n",
       "      <td>350583.0</td>\n",
       "      <td>7571000000</td>\n",
       "      <td>2004-01-01</td>\n",
       "    </tr>\n",
       "    <tr>\n",
       "      <th>10</th>\n",
       "      <td>7518000</td>\n",
       "      <td>507385.0</td>\n",
       "      <td>8629000000</td>\n",
       "      <td>2005-01-01</td>\n",
       "    </tr>\n",
       "    <tr>\n",
       "      <th>11</th>\n",
       "      <td>8509000</td>\n",
       "      <td>553713.0</td>\n",
       "      <td>9211000000</td>\n",
       "      <td>2006-01-01</td>\n",
       "    </tr>\n",
       "    <tr>\n",
       "      <th>12</th>\n",
       "      <td>9208000</td>\n",
       "      <td>569677.0</td>\n",
       "      <td>10226000000</td>\n",
       "      <td>2007-01-01</td>\n",
       "    </tr>\n",
       "    <tr>\n",
       "      <th>13</th>\n",
       "      <td>9729000</td>\n",
       "      <td>607000.0</td>\n",
       "      <td>9178000000</td>\n",
       "      <td>2008-01-01</td>\n",
       "    </tr>\n",
       "    <tr>\n",
       "      <th>14</th>\n",
       "      <td>9532000</td>\n",
       "      <td>554000.0</td>\n",
       "      <td>8684000000</td>\n",
       "      <td>2009-01-01</td>\n",
       "    </tr>\n",
       "    <tr>\n",
       "      <th>15</th>\n",
       "      <td>11303000</td>\n",
       "      <td>567300.0</td>\n",
       "      <td>10309000000</td>\n",
       "      <td>2010-01-01</td>\n",
       "    </tr>\n",
       "    <tr>\n",
       "      <th>16</th>\n",
       "      <td>12097000</td>\n",
       "      <td>622900.0</td>\n",
       "      <td>10706000000</td>\n",
       "      <td>2011-01-01</td>\n",
       "    </tr>\n",
       "    <tr>\n",
       "      <th>17</th>\n",
       "      <td>13069000</td>\n",
       "      <td>646400.0</td>\n",
       "      <td>11202000000</td>\n",
       "      <td>2012-01-01</td>\n",
       "    </tr>\n",
       "    <tr>\n",
       "      <th>18</th>\n",
       "      <td>14318000</td>\n",
       "      <td>657700.0</td>\n",
       "      <td>10468000000</td>\n",
       "      <td>2013-01-01</td>\n",
       "    </tr>\n",
       "    <tr>\n",
       "      <th>19</th>\n",
       "      <td>14530000</td>\n",
       "      <td>681900.0</td>\n",
       "      <td>10484000000</td>\n",
       "      <td>2014-01-01</td>\n",
       "    </tr>\n",
       "    <tr>\n",
       "      <th>20</th>\n",
       "      <td>13952000</td>\n",
       "      <td>669600.0</td>\n",
       "      <td>9140000000</td>\n",
       "      <td>2015-01-01</td>\n",
       "    </tr>\n",
       "    <tr>\n",
       "      <th>21</th>\n",
       "      <td>15121000</td>\n",
       "      <td>705800.0</td>\n",
       "      <td>8807000000</td>\n",
       "      <td>2016-01-01</td>\n",
       "    </tr>\n",
       "    <tr>\n",
       "      <th>22</th>\n",
       "      <td>14975000</td>\n",
       "      <td>681600.0</td>\n",
       "      <td>9706000000</td>\n",
       "      <td>2017-01-01</td>\n",
       "    </tr>\n",
       "    <tr>\n",
       "      <th>23</th>\n",
       "      <td>15004000</td>\n",
       "      <td>739600.0</td>\n",
       "      <td>9789000000</td>\n",
       "      <td>2018-01-01</td>\n",
       "    </tr>\n",
       "    <tr>\n",
       "      <th>24</th>\n",
       "      <td>14797000</td>\n",
       "      <td>350583.0</td>\n",
       "      <td>9064000000</td>\n",
       "      <td>2019-01-01</td>\n",
       "    </tr>\n",
       "  </tbody>\n",
       "</table>\n",
       "</div>"
      ],
      "text/plain": [
       "    arrivals  employment  expenditures       year\n",
       "0    4684000    350583.0    2654000000 1995-01-01\n",
       "1    5186000    350583.0    3137000000 1996-01-01\n",
       "2    5170000    350583.0    3422000000 1997-01-01\n",
       "3    5898000    350583.0    3419000000 1998-01-01\n",
       "4    6026000    350583.0    3407000000 1999-01-01\n",
       "5    6001000    350583.0    3338000000 2000-01-01\n",
       "6    5908000    350583.0    3256000000 2001-01-01\n",
       "7    6550000    350583.0    3695000000 2002-01-01\n",
       "8    6640000    350583.0    6674000000 2003-01-01\n",
       "9    6815000    350583.0    7571000000 2004-01-01\n",
       "10   7518000    507385.0    8629000000 2005-01-01\n",
       "11   8509000    553713.0    9211000000 2006-01-01\n",
       "12   9208000    569677.0   10226000000 2007-01-01\n",
       "13   9729000    607000.0    9178000000 2008-01-01\n",
       "14   9532000    554000.0    8684000000 2009-01-01\n",
       "15  11303000    567300.0   10309000000 2010-01-01\n",
       "16  12097000    622900.0   10706000000 2011-01-01\n",
       "17  13069000    646400.0   11202000000 2012-01-01\n",
       "18  14318000    657700.0   10468000000 2013-01-01\n",
       "19  14530000    681900.0   10484000000 2014-01-01\n",
       "20  13952000    669600.0    9140000000 2015-01-01\n",
       "21  15121000    705800.0    8807000000 2016-01-01\n",
       "22  14975000    681600.0    9706000000 2017-01-01\n",
       "23  15004000    739600.0    9789000000 2018-01-01\n",
       "24  14797000    350583.0    9064000000 2019-01-01"
      ]
     },
     "execution_count": 141,
     "metadata": {},
     "output_type": "execute_result"
    }
   ],
   "source": [
    "\n",
    "test_data.head(25)"
   ]
  },
  {
   "cell_type": "code",
   "execution_count": 142,
   "id": "bb7aa1b6",
   "metadata": {},
   "outputs": [
    {
     "name": "stdout",
     "output_type": "stream",
     "text": [
      "            arrivals  employment\n",
      "year                            \n",
      "1995-01-01   4684000    350583.0\n",
      "1996-01-01   5186000    350583.0\n",
      "1997-01-01   5170000    350583.0\n",
      "1998-01-01   5898000    350583.0\n",
      "1999-01-01   6026000    350583.0\n",
      "2000-01-01   6001000    350583.0\n",
      "2001-01-01   5908000    350583.0\n",
      "2002-01-01   6550000    350583.0\n",
      "2003-01-01   6640000    350583.0\n",
      "2004-01-01   6815000    350583.0\n",
      "2005-01-01   7518000    507385.0\n",
      "2006-01-01   8509000    553713.0\n",
      "2007-01-01   9208000    569677.0\n",
      "2008-01-01   9729000    607000.0\n",
      "2009-01-01   9532000    554000.0\n",
      "2010-01-01  11303000    567300.0\n",
      "2011-01-01  12097000    622900.0\n",
      "2012-01-01  13069000    646400.0\n",
      "2013-01-01  14318000    657700.0\n",
      "2014-01-01  14530000    681900.0\n",
      "2015-01-01  13952000    669600.0\n",
      "2016-01-01  15121000    705800.0\n",
      "2017-01-01  14975000    681600.0\n",
      "2018-01-01  15004000    739600.0\n",
      "2019-01-01  14797000    350583.0\n"
     ]
    }
   ],
   "source": [
    "predict_test_data = test_data.groupby('year')['arrivals','employment'].sum()\n",
    "print(predict_test_data)"
   ]
  },
  {
   "cell_type": "code",
   "execution_count": 143,
   "id": "d1789884",
   "metadata": {},
   "outputs": [
    {
     "data": {
      "text/plain": [
       "Text(0, 0.5, 'Nomber of Orders')"
      ]
     },
     "execution_count": 143,
     "metadata": {},
     "output_type": "execute_result"
    },
    {
     "data": {
      "image/png": "[encoded data removed]",
      "text/plain": [
       "<Figure size 1800x288 with 1 Axes>"
      ]
     },
     "metadata": {
      "needs_background": "light"
     },
     "output_type": "display_data"
    }
   ],
   "source": [
    "#plot \n",
    "fig=plt.figure(0,figsize=(25,4))\n",
    "ax=plt.gca()\n",
    "plt.plot(predict_test_data['arrivals'])\n",
    "ax.set_xlabel('Year')\n",
    "ax.set_ylabel('Nomber of Orders')\n"
   ]
  },
  {
   "cell_type": "code",
   "execution_count": 144,
   "id": "a1599e3c",
   "metadata": {},
   "outputs": [
    {
     "name": "stdout",
     "output_type": "stream",
     "text": [
      "Performing stepwise search to minimize aic\n",
      " ARIMA(1,1,1)(0,1,0)[12]             : AIC=367.173, Time=0.04 sec\n",
      " ARIMA(0,1,0)(0,1,0)[12]             : AIC=367.604, Time=0.00 sec\n",
      " ARIMA(1,1,0)(1,1,0)[12]             : AIC=366.655, Time=0.03 sec\n",
      " ARIMA(0,1,1)(0,1,1)[12]             : AIC=366.783, Time=0.04 sec\n",
      " ARIMA(1,1,0)(0,1,0)[12]             : AIC=365.085, Time=0.01 sec\n",
      " ARIMA(1,1,0)(0,1,1)[12]             : AIC=366.568, Time=0.04 sec\n",
      " ARIMA(1,1,0)(1,1,1)[12]             : AIC=368.325, Time=0.12 sec\n",
      " ARIMA(2,1,0)(0,1,0)[12]             : AIC=367.037, Time=0.02 sec\n",
      " ARIMA(0,1,1)(0,1,0)[12]             : AIC=365.259, Time=0.02 sec\n",
      " ARIMA(2,1,1)(0,1,0)[12]             : AIC=368.742, Time=0.10 sec\n",
      " ARIMA(1,1,0)(0,1,0)[12] intercept   : AIC=366.965, Time=0.02 sec\n",
      "\n",
      "Best model:  ARIMA(1,1,0)(0,1,0)[12]          \n",
      "Total fit time: 0.469 seconds\n",
      "                                     SARIMAX Results                                      \n",
      "==========================================================================================\n",
      "Dep. Variable:                                  y   No. Observations:                   25\n",
      "Model:             SARIMAX(1, 1, 0)x(0, 1, 0, 12)   Log Likelihood                -180.542\n",
      "Date:                            Sat, 09 Jul 2022   AIC                            365.085\n",
      "Time:                                    20:48:10   BIC                            366.055\n",
      "Sample:                                         0   HQIC                           364.726\n",
      "                                             - 25                                         \n",
      "Covariance Type:                              opg                                         \n",
      "==============================================================================\n",
      "                 coef    std err          z      P>|z|      [0.025      0.975]\n",
      "------------------------------------------------------------------------------\n",
      "ar.L1          0.0987      0.244      0.404      0.686      -0.380       0.577\n",
      "sigma2      6.994e+11   3.11e-14   2.25e+25      0.000    6.99e+11    6.99e+11\n",
      "===================================================================================\n",
      "Ljung-Box (L1) (Q):                   0.43   Jarque-Bera (JB):                 1.41\n",
      "Prob(Q):                              0.51   Prob(JB):                         0.50\n",
      "Heteroskedasticity (H):               2.10   Skew:                             0.05\n",
      "Prob(H) (two-sided):                  0.49   Kurtosis:                         1.33\n",
      "===================================================================================\n",
      "\n",
      "Warnings:\n",
      "[1] Covariance matrix calculated using the outer product of gradients (complex-step).\n",
      "[2] Covariance matrix is singular or near-singular, with condition number    inf. Standard errors may be unstable.\n"
     ]
    }
   ],
   "source": [
    "#ax.set_ylabel('Total arrival')\n",
    "test_model_tourism=auto_arima(predict_test_data['arrivals'],\n",
    "                           start_p=1, start_q=1, max_p=8, max_q=8,\n",
    "                           start_P=0, start_Q=0, max_P=8, max_Q=8,\n",
    "                           m=12, seasonal=True, trace=True, d=1, D=1,\n",
    "                           error_action='ignore', suppress_warnings=True,\n",
    "                           random_state = 20, n_fits=30)\n",
    "print(test_model_tourism.summary())"
   ]
  },
  {
   "cell_type": "code",
   "execution_count": 145,
   "id": "7983808a",
   "metadata": {},
   "outputs": [],
   "source": [
    "model_t = model_t = SARIMAX(predict_test_data['arrivals'],\n",
    "                             order = test_model_tourism.order,\n",
    "                             initialization='approximate_diffuse',\n",
    "                             filter_concentrated=True,\n",
    "                             seasonal_order =test_model_tourism.seasonal_order) "
   ]
  },
  {
   "cell_type": "code",
   "execution_count": 146,
   "id": "bb3198e7",
   "metadata": {},
   "outputs": [],
   "source": [
    "result_t = model_t.fit() "
   ]
  },
  {
   "cell_type": "code",
   "execution_count": 149,
   "id": "58013bbf",
   "metadata": {},
   "outputs": [],
   "source": [
    "\n",
    "result_t.save(r\"C:\\Users\\saghir\\Desktop\\PFE\\Projet finale 07 juillet 2022\\saghir\\model.h5\")\n",
    "loaded_ARIMA = result_t.load(r\"C:\\Users\\saghir\\Desktop\\PFE\\Projet finale 07 juillet 2022\\saghir\\model.h5\")"
   ]
  },
  {
   "cell_type": "code",
   "execution_count": 150,
   "id": "17887f8c",
   "metadata": {},
   "outputs": [
    {
     "data": {
      "image/png": "[encoded data removed]",
      "text/plain": [
       "<Figure size 1152x576 with 4 Axes>"
      ]
     },
     "metadata": {
      "needs_background": "light"
     },
     "output_type": "display_data"
    }
   ],
   "source": [
    "forecast_t=np.round(result_t.predict(start = len(predict_test_data)-12,\n",
    "                                     end = len(predict_test_data)+11,\n",
    "                                     typ = 'levels').rename('Forecast Tourism'),0)\n",
    "forecast_t=np.round(result_t.predict(start = len(predict_test_data)-12,\n",
    "                                     end = len(predict_test_data)+11,\n",
    "                                     typ = 'levels').rename('Forecast Tourism'),0)\n",
    "result_t.plot_diagnostics(figsize=(16,8))\n",
    "plt.show()"
   ]
  },
  {
   "cell_type": "code",
   "execution_count": 151,
   "id": "af35f612",
   "metadata": {},
   "outputs": [],
   "source": [
    "forecast_t=np.round(result_t.predict(start = len(predict_test_data)-12,\n",
    "                                     end = len(predict_test_data)+11,\n",
    "                                     typ = 'levels').rename('Forecasting of quantity tourism'),0)"
   ]
  },
  {
   "cell_type": "code",
   "execution_count": 152,
   "id": "f6534b7b",
   "metadata": {},
   "outputs": [
    {
     "name": "stdout",
     "output_type": "stream",
     "text": [
      "je suis forecasttttttttttttttttttttttttttttttt\n",
      "2008-01-01     8948727.0\n",
      "2009-01-01     9718968.0\n",
      "2010-01-01    10203148.0\n",
      "2011-01-01    11758606.0\n",
      "2012-01-01    12281191.0\n",
      "2013-01-01    13289158.0\n",
      "2014-01-01    15381522.0\n",
      "2015-01-01    14484937.0\n",
      "2016-01-01    13917181.0\n",
      "2017-01-01    16136216.0\n",
      "2018-01-01    15699329.0\n",
      "2019-01-01    15400836.0\n",
      "2020-01-01    15033425.0\n",
      "2021-01-01    14747040.0\n",
      "2022-01-01    16489964.0\n",
      "2023-01-01    17275146.0\n",
      "2024-01-01    18244376.0\n",
      "2025-01-01    19492506.0\n",
      "2026-01-01    19704233.0\n",
      "2027-01-01    19126147.0\n",
      "2028-01-01    20295120.0\n",
      "2029-01-01    20149111.0\n",
      "2030-01-01    20178109.0\n",
      "2031-01-01    19971108.0\n",
      "Freq: AS-JAN, Name: Forecasting of quantity tourism, dtype: float64\n"
     ]
    }
   ],
   "source": [
    "print('je suis forecasttttttttttttttttttttttttttttttt')\n",
    "print(forecast_t)"
   ]
  },
  {
   "cell_type": "code",
   "execution_count": 153,
   "id": "ec0721e4",
   "metadata": {},
   "outputs": [
    {
     "data": {
      "text/plain": [
       "<matplotlib.axes._subplots.AxesSubplot at 0x1e32de9c828>"
      ]
     },
     "execution_count": 153,
     "metadata": {},
     "output_type": "execute_result"
    },
    {
     "data": {
      "image/png": "[encoded data removed]",
      "text/plain": [
       "<Figure size 432x288 with 1 Axes>"
      ]
     },
     "metadata": {
      "needs_background": "light"
     },
     "output_type": "display_data"
    }
   ],
   "source": [
    "#type(forecast_t['year'])\n",
    "forecast_t.plot()"
   ]
  },
  {
   "cell_type": "code",
   "execution_count": 154,
   "id": "ecaf1b8b",
   "metadata": {},
   "outputs": [],
   "source": [
    "#meriem = pd.DataFrame(index=None)\n",
    "#meriem['arrivals']=forecast_t\n",
    "#meriem['year']=forecast_t.index\n"
   ]
  },
  {
   "cell_type": "code",
   "execution_count": 156,
   "id": "f8f54db2",
   "metadata": {},
   "outputs": [
    {
     "name": "stdout",
     "output_type": "stream",
     "text": [
      "831762.2591594808\n"
     ]
    }
   ],
   "source": [
    "rmse=np.sqrt(mean_squared_error(predict_test_data['arrivals'].tail(12),forecast_t.head(12)))\n",
    "print(rmse)"
   ]
  },
  {
   "cell_type": "code",
   "execution_count": 157,
   "id": "c195e7b2",
   "metadata": {},
   "outputs": [
    {
     "data": {
      "text/plain": [
       "Text(0, 0.5, 'Nomber of Orders')"
      ]
     },
     "execution_count": 157,
     "metadata": {},
     "output_type": "execute_result"
    },
    {
     "data": {
      "image/png": "[encoded data removed]",
      "text/plain": [
       "<Figure size 1800x288 with 1 Axes>"
      ]
     },
     "metadata": {
      "needs_background": "light"
     },
     "output_type": "display_data"
    }
   ],
   "source": [
    "#plot \n",
    "fig=plt.figure(0,figsize=(25,4))\n",
    "ax=plt.gca()\n",
    "plt.plot(predict_test_data['arrivals'])\n",
    "ax.set_xlabel('Year')\n",
    "ax.set_ylabel('Nomber of Orders')"
   ]
  },
  {
   "cell_type": "code",
   "execution_count": 158,
   "id": "0942442b",
   "metadata": {},
   "outputs": [
    {
     "data": {
      "text/plain": [
       "<matplotlib.axes._subplots.AxesSubplot at 0x1e32d4570b8>"
      ]
     },
     "execution_count": 158,
     "metadata": {},
     "output_type": "execute_result"
    },
    {
     "data": {
      "image/png": "[encoded data removed]",
      "text/plain": [
       "<Figure size 1872x432 with 1 Axes>"
      ]
     },
     "metadata": {
      "needs_background": "light"
     },
     "output_type": "display_data"
    }
   ],
   "source": [
    "fig, ax = plt.subplots()\n",
    "fig.suptitle('Forecasting of arrivals order')\n",
    "predict_test_data['arrivals'].plot(figsize=(26, 6),ax=ax, legend=True) \n",
    "plt.xlabel('year')\n",
    "plt.ylabel('No. of Orders')\n",
    "forecast_t.plot()\n"
   ]
  },
  {
   "cell_type": "code",
   "execution_count": 159,
   "id": "c0b65777",
   "metadata": {},
   "outputs": [],
   "source": [
    "forecast_t.to_excel(r'Forecast.xlsx',index=True)"
   ]
  },
  {
   "cell_type": "code",
   "execution_count": null,
   "id": "84c684d8",
   "metadata": {},
   "outputs": [],
   "source": []
  }
 ],
 "metadata": {
  "kernelspec": {
   "display_name": "Python 3",
   "language": "python",
   "name": "python3"
  },
  "language_info": {
   "codemirror_mode": {
    "name": "ipython",
    "version": 3
   },
   "file_extension": ".py",
   "mimetype": "text/x-python",
   "name": "python",
   "nbconvert_exporter": "python",
   "pygments_lexer": "ipython3",
   "version": "3.7.3"
  },
  "vscode": {
   "interpreter": {
    "hash": "9650cb4e16cdd4a8e8e2d128bf38d875813998db22a3c986335f89e0cb4d7bb2"
   }
  }
 },
 "nbformat": 4,
 "nbformat_minor": 5
}
